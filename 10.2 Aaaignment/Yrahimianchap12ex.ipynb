{
 "cells": [
  {
   "cell_type": "markdown",
   "metadata": {},
   "source": [
    "# Examples and Exercises from Think Stats, 2nd Edition\n",
    "\n",
    "http://thinkstats2.com\n",
    "\n",
    "Copyright 2016 Allen B. Downey\n",
    "\n",
    "MIT License: https://opensource.org/licenses/MIT\n"
   ]
  },
  {
   "cell_type": "code",
   "execution_count": 1,
   "metadata": {},
   "outputs": [],
   "source": [
    "from __future__ import print_function, division\n",
    "\n",
    "%matplotlib inline\n",
    "\n",
    "import warnings\n",
    "warnings.filterwarnings('ignore', category=FutureWarning)\n",
    "\n",
    "import numpy as np\n",
    "import pandas as pd\n",
    "\n",
    "import random\n",
    "\n",
    "import thinkstats2\n",
    "import thinkplot"
   ]
  },
  {
   "cell_type": "markdown",
   "metadata": {},
   "source": [
    "## Time series analysis\n",
    "\n",
    "Load the data from \"Price of Weed\"."
   ]
  },
  {
   "cell_type": "code",
   "execution_count": 2,
   "metadata": {},
   "outputs": [
    {
     "data": {
      "text/html": [
       "<div>\n",
       "<style scoped>\n",
       "    .dataframe tbody tr th:only-of-type {\n",
       "        vertical-align: middle;\n",
       "    }\n",
       "\n",
       "    .dataframe tbody tr th {\n",
       "        vertical-align: top;\n",
       "    }\n",
       "\n",
       "    .dataframe thead th {\n",
       "        text-align: right;\n",
       "    }\n",
       "</style>\n",
       "<table border=\"1\" class=\"dataframe\">\n",
       "  <thead>\n",
       "    <tr style=\"text-align: right;\">\n",
       "      <th></th>\n",
       "      <th>city</th>\n",
       "      <th>state</th>\n",
       "      <th>price</th>\n",
       "      <th>amount</th>\n",
       "      <th>quality</th>\n",
       "      <th>date</th>\n",
       "      <th>ppg</th>\n",
       "      <th>state.name</th>\n",
       "      <th>lat</th>\n",
       "      <th>lon</th>\n",
       "    </tr>\n",
       "  </thead>\n",
       "  <tbody>\n",
       "    <tr>\n",
       "      <th>0</th>\n",
       "      <td>Annandale</td>\n",
       "      <td>VA</td>\n",
       "      <td>100</td>\n",
       "      <td>7.075</td>\n",
       "      <td>high</td>\n",
       "      <td>2010-09-02</td>\n",
       "      <td>14.13</td>\n",
       "      <td>Virginia</td>\n",
       "      <td>38.830345</td>\n",
       "      <td>-77.213870</td>\n",
       "    </tr>\n",
       "    <tr>\n",
       "      <th>1</th>\n",
       "      <td>Auburn</td>\n",
       "      <td>AL</td>\n",
       "      <td>60</td>\n",
       "      <td>28.300</td>\n",
       "      <td>high</td>\n",
       "      <td>2010-09-02</td>\n",
       "      <td>2.12</td>\n",
       "      <td>Alabama</td>\n",
       "      <td>32.578185</td>\n",
       "      <td>-85.472820</td>\n",
       "    </tr>\n",
       "    <tr>\n",
       "      <th>2</th>\n",
       "      <td>Austin</td>\n",
       "      <td>TX</td>\n",
       "      <td>60</td>\n",
       "      <td>28.300</td>\n",
       "      <td>medium</td>\n",
       "      <td>2010-09-02</td>\n",
       "      <td>2.12</td>\n",
       "      <td>Texas</td>\n",
       "      <td>30.326374</td>\n",
       "      <td>-97.771258</td>\n",
       "    </tr>\n",
       "    <tr>\n",
       "      <th>3</th>\n",
       "      <td>Belleville</td>\n",
       "      <td>IL</td>\n",
       "      <td>400</td>\n",
       "      <td>28.300</td>\n",
       "      <td>high</td>\n",
       "      <td>2010-09-02</td>\n",
       "      <td>14.13</td>\n",
       "      <td>Illinois</td>\n",
       "      <td>38.532311</td>\n",
       "      <td>-89.983521</td>\n",
       "    </tr>\n",
       "    <tr>\n",
       "      <th>4</th>\n",
       "      <td>Boone</td>\n",
       "      <td>NC</td>\n",
       "      <td>55</td>\n",
       "      <td>3.540</td>\n",
       "      <td>high</td>\n",
       "      <td>2010-09-02</td>\n",
       "      <td>15.54</td>\n",
       "      <td>North Carolina</td>\n",
       "      <td>36.217052</td>\n",
       "      <td>-81.687983</td>\n",
       "    </tr>\n",
       "  </tbody>\n",
       "</table>\n",
       "</div>"
      ],
      "text/plain": [
       "         city state  price  amount quality       date    ppg      state.name  \\\n",
       "0   Annandale    VA    100   7.075    high 2010-09-02  14.13        Virginia   \n",
       "1      Auburn    AL     60  28.300    high 2010-09-02   2.12         Alabama   \n",
       "2      Austin    TX     60  28.300  medium 2010-09-02   2.12           Texas   \n",
       "3  Belleville    IL    400  28.300    high 2010-09-02  14.13        Illinois   \n",
       "4       Boone    NC     55   3.540    high 2010-09-02  15.54  North Carolina   \n",
       "\n",
       "         lat        lon  \n",
       "0  38.830345 -77.213870  \n",
       "1  32.578185 -85.472820  \n",
       "2  30.326374 -97.771258  \n",
       "3  38.532311 -89.983521  \n",
       "4  36.217052 -81.687983  "
      ]
     },
     "execution_count": 2,
     "metadata": {},
     "output_type": "execute_result"
    }
   ],
   "source": [
    "transactions = pd.read_csv('mj-clean.csv', parse_dates=[5])\n",
    "transactions.head()"
   ]
  },
  {
   "cell_type": "markdown",
   "metadata": {},
   "source": [
    "The following function takes a DataFrame of transactions and compute daily averages."
   ]
  },
  {
   "cell_type": "markdown",
   "metadata": {
    "collapsed": true
   },
   "source": [
    "## Exercises"
   ]
  },
  {
   "cell_type": "markdown",
   "metadata": {
    "collapsed": true
   },
   "source": [
    "**Exercise:**   The linear model I used in this chapter has the obvious drawback that it is linear, and there is no reason to expect prices to change linearly over time. We can add flexibility to the model by adding a quadratic term, as we did in Section 11.3.\n",
    "\n",
    "Use a quadratic model to fit the time series of daily prices, and use the model to generate predictions. You will have to write a version of `RunLinearModel` that runs that quadratic model, but after that you should be able to reuse code from the chapter to generate predictions."
   ]
  },
  {
   "cell_type": "code",
   "execution_count": 3,
   "metadata": {},
   "outputs": [],
   "source": [
    "# Solution\n",
    "\n",
    "def RunQuadraticModel(daily):\n",
    "    \"\"\"Runs a linear model of prices versus years.\n",
    "\n",
    "    daily: DataFrame of daily prices\n",
    "\n",
    "    returns: model, results\n",
    "    \"\"\"\n",
    "    daily['years2'] = daily.years**2\n",
    "    model = smf.ols('ppg ~ years + years2', data=daily)\n",
    "    results = model.fit()\n",
    "    return model, results"
   ]
  },
  {
   "cell_type": "markdown",
   "metadata": {},
   "source": [
    "We can use statsmodels to run a linear model of price as a function of time."
   ]
  },
  {
   "cell_type": "code",
   "execution_count": 4,
   "metadata": {},
   "outputs": [],
   "source": [
    "import statsmodels.formula.api as smf\n",
    "\n",
    "def RunLinearModel(daily):\n",
    "    model = smf.ols('ppg ~ years', data=daily)\n",
    "    results = model.fit()\n",
    "    return model, results"
   ]
  },
  {
   "cell_type": "code",
   "execution_count": 5,
   "metadata": {},
   "outputs": [],
   "source": [
    "def GroupByDay(transactions, func=np.mean):\n",
    "    \"\"\"Groups transactions by day and compute the daily mean ppg.\n",
    "\n",
    "    transactions: DataFrame of transactions\n",
    "\n",
    "    returns: DataFrame of daily prices\n",
    "    \"\"\"\n",
    "    grouped = transactions[['date', 'ppg']].groupby('date')\n",
    "    daily = grouped.aggregate(func)\n",
    "\n",
    "    daily['date'] = daily.index\n",
    "    start = daily.date[0]\n",
    "    one_year = np.timedelta64(1, 'Y')\n",
    "    daily['years'] = (daily.date - start) / one_year\n",
    "\n",
    "    return daily"
   ]
  },
  {
   "cell_type": "code",
   "execution_count": 6,
   "metadata": {},
   "outputs": [],
   "source": [
    "def GroupByQualityAndDay(transactions):\n",
    "    \"\"\"Divides transactions by quality and computes mean daily price.\n",
    "\n",
    "    transaction: DataFrame of transactions\n",
    "    \n",
    "    returns: map from quality to time series of ppg\n",
    "    \"\"\"\n",
    "    groups = transactions.groupby('quality')\n",
    "    dailies = {}\n",
    "    for name, group in groups:\n",
    "        dailies[name] = GroupByDay(group)        \n",
    "\n",
    "    return dailies\n"
   ]
  },
  {
   "cell_type": "code",
   "execution_count": 7,
   "metadata": {},
   "outputs": [],
   "source": [
    "dailies = GroupByQualityAndDay(transactions)"
   ]
  },
  {
   "cell_type": "code",
   "execution_count": 8,
   "metadata": {},
   "outputs": [
    {
     "data": {
      "text/html": [
       "<table class=\"simpletable\">\n",
       "<caption>OLS Regression Results</caption>\n",
       "<tr>\n",
       "  <th>Dep. Variable:</th>           <td>ppg</td>       <th>  R-squared:         </th> <td>   0.455</td> \n",
       "</tr>\n",
       "<tr>\n",
       "  <th>Model:</th>                   <td>OLS</td>       <th>  Adj. R-squared:    </th> <td>   0.454</td> \n",
       "</tr>\n",
       "<tr>\n",
       "  <th>Method:</th>             <td>Least Squares</td>  <th>  F-statistic:       </th> <td>   517.5</td> \n",
       "</tr>\n",
       "<tr>\n",
       "  <th>Date:</th>             <td>Fri, 25 Feb 2022</td> <th>  Prob (F-statistic):</th> <td>4.57e-164</td>\n",
       "</tr>\n",
       "<tr>\n",
       "  <th>Time:</th>                 <td>20:58:35</td>     <th>  Log-Likelihood:    </th> <td> -1497.4</td> \n",
       "</tr>\n",
       "<tr>\n",
       "  <th>No. Observations:</th>      <td>  1241</td>      <th>  AIC:               </th> <td>   3001.</td> \n",
       "</tr>\n",
       "<tr>\n",
       "  <th>Df Residuals:</th>          <td>  1238</td>      <th>  BIC:               </th> <td>   3016.</td> \n",
       "</tr>\n",
       "<tr>\n",
       "  <th>Df Model:</th>              <td>     2</td>      <th>                     </th>     <td> </td>    \n",
       "</tr>\n",
       "<tr>\n",
       "  <th>Covariance Type:</th>      <td>nonrobust</td>    <th>                     </th>     <td> </td>    \n",
       "</tr>\n",
       "</table>\n",
       "<table class=\"simpletable\">\n",
       "<tr>\n",
       "      <td></td>         <th>coef</th>     <th>std err</th>      <th>t</th>      <th>P>|t|</th>  <th>[0.025</th>    <th>0.975]</th>  \n",
       "</tr>\n",
       "<tr>\n",
       "  <th>Intercept</th> <td>   13.6980</td> <td>    0.067</td> <td>  205.757</td> <td> 0.000</td> <td>   13.567</td> <td>   13.829</td>\n",
       "</tr>\n",
       "<tr>\n",
       "  <th>years</th>     <td>   -1.1171</td> <td>    0.084</td> <td>  -13.326</td> <td> 0.000</td> <td>   -1.282</td> <td>   -0.953</td>\n",
       "</tr>\n",
       "<tr>\n",
       "  <th>years2</th>    <td>    0.1132</td> <td>    0.022</td> <td>    5.060</td> <td> 0.000</td> <td>    0.069</td> <td>    0.157</td>\n",
       "</tr>\n",
       "</table>\n",
       "<table class=\"simpletable\">\n",
       "<tr>\n",
       "  <th>Omnibus:</th>       <td>49.112</td> <th>  Durbin-Watson:     </th> <td>   1.885</td>\n",
       "</tr>\n",
       "<tr>\n",
       "  <th>Prob(Omnibus):</th> <td> 0.000</td> <th>  Jarque-Bera (JB):  </th> <td> 113.885</td>\n",
       "</tr>\n",
       "<tr>\n",
       "  <th>Skew:</th>          <td> 0.199</td> <th>  Prob(JB):          </th> <td>1.86e-25</td>\n",
       "</tr>\n",
       "<tr>\n",
       "  <th>Kurtosis:</th>      <td> 4.430</td> <th>  Cond. No.          </th> <td>    27.5</td>\n",
       "</tr>\n",
       "</table><br/><br/>Notes:<br/>[1] Standard Errors assume that the covariance matrix of the errors is correctly specified."
      ],
      "text/plain": [
       "<class 'statsmodels.iolib.summary.Summary'>\n",
       "\"\"\"\n",
       "                            OLS Regression Results                            \n",
       "==============================================================================\n",
       "Dep. Variable:                    ppg   R-squared:                       0.455\n",
       "Model:                            OLS   Adj. R-squared:                  0.454\n",
       "Method:                 Least Squares   F-statistic:                     517.5\n",
       "Date:                Fri, 25 Feb 2022   Prob (F-statistic):          4.57e-164\n",
       "Time:                        20:58:35   Log-Likelihood:                -1497.4\n",
       "No. Observations:                1241   AIC:                             3001.\n",
       "Df Residuals:                    1238   BIC:                             3016.\n",
       "Df Model:                           2                                         \n",
       "Covariance Type:            nonrobust                                         \n",
       "==============================================================================\n",
       "                 coef    std err          t      P>|t|      [0.025      0.975]\n",
       "------------------------------------------------------------------------------\n",
       "Intercept     13.6980      0.067    205.757      0.000      13.567      13.829\n",
       "years         -1.1171      0.084    -13.326      0.000      -1.282      -0.953\n",
       "years2         0.1132      0.022      5.060      0.000       0.069       0.157\n",
       "==============================================================================\n",
       "Omnibus:                       49.112   Durbin-Watson:                   1.885\n",
       "Prob(Omnibus):                  0.000   Jarque-Bera (JB):              113.885\n",
       "Skew:                           0.199   Prob(JB):                     1.86e-25\n",
       "Kurtosis:                       4.430   Cond. No.                         27.5\n",
       "==============================================================================\n",
       "\n",
       "Notes:\n",
       "[1] Standard Errors assume that the covariance matrix of the errors is correctly specified.\n",
       "\"\"\""
      ]
     },
     "execution_count": 8,
     "metadata": {},
     "output_type": "execute_result"
    }
   ],
   "source": [
    "# Solution\n",
    "\n",
    "name = 'high'\n",
    "daily = dailies[name]\n",
    "\n",
    "model, results = RunQuadraticModel(daily)\n",
    "results.summary()  "
   ]
  },
  {
   "cell_type": "markdown",
   "metadata": {},
   "source": [
    "Now let's plot the fitted model with the data.\n"
   ]
  },
  {
   "cell_type": "code",
   "execution_count": 9,
   "metadata": {},
   "outputs": [],
   "source": [
    "def PlotFittedValues(model, results, label=''):\n",
    "    \"\"\"Plots original data and fitted values.\n",
    "\n",
    "    model: StatsModel model object\n",
    "    results: StatsModel results object\n",
    "    \"\"\"\n",
    "    years = model.exog[:,1]\n",
    "    values = model.endog\n",
    "    thinkplot.Scatter(years, values, s=15, label=label)\n",
    "    thinkplot.Plot(years, results.fittedvalues, label='model', color='#ff7f00')"
   ]
  },
  {
   "cell_type": "code",
   "execution_count": 10,
   "metadata": {
    "scrolled": true
   },
   "outputs": [
    {
     "data": {
      "image/png": "[encoded data removed]",
      "text/plain": [
       "<Figure size 432x288 with 1 Axes>"
      ]
     },
     "metadata": {
      "needs_background": "light"
     },
     "output_type": "display_data"
    }
   ],
   "source": [
    "# Solution\n",
    "\n",
    "PlotFittedValues(model, results, label=name)\n",
    "thinkplot.Config(title='Fitted values',\n",
    "                 xlabel='Years',\n",
    "                 xlim=[-0.1, 3.8],\n",
    "                 ylabel='price per gram ($)')"
   ]
  },
  {
   "cell_type": "markdown",
   "metadata": {},
   "source": [
    "To visualize predictions, I show a darker region that quantifies modeling uncertainty and a lighter region that quantifies predictive uncertainty."
   ]
  },
  {
   "cell_type": "code",
   "execution_count": 11,
   "metadata": {},
   "outputs": [],
   "source": [
    "def PlotPredictions(daily, years, iters=101, percent=90, func=RunLinearModel):\n",
    "    \"\"\"Plots predictions.\n",
    "\n",
    "    daily: DataFrame of daily prices\n",
    "    years: sequence of times (in years) to make predictions for\n",
    "    iters: number of simulations\n",
    "    percent: what percentile range to show\n",
    "    func: function that fits a model to the data\n",
    "    \"\"\"\n",
    "    result_seq = SimulateResults(daily, iters=iters, func=func)\n",
    "    p = (100 - percent) / 2\n",
    "    percents = p, 100-p\n",
    "\n",
    "    predict_seq = GeneratePredictions(result_seq, years, add_resid=True)\n",
    "    low, high = thinkstats2.PercentileRows(predict_seq, percents)\n",
    "    thinkplot.FillBetween(years, low, high, alpha=0.3, color='gray')\n",
    "\n",
    "    predict_seq = GeneratePredictions(result_seq, years, add_resid=False)\n",
    "    low, high = thinkstats2.PercentileRows(predict_seq, percents)\n",
    "    thinkplot.FillBetween(years, low, high, alpha=0.5, color='gray')"
   ]
  },
  {
   "cell_type": "code",
   "execution_count": 12,
   "metadata": {},
   "outputs": [],
   "source": [
    "def SimulateResults(daily, iters=101, func=RunLinearModel):\n",
    "    \"\"\"Run simulations based on resampling residuals.\n",
    "\n",
    "    daily: DataFrame of daily prices\n",
    "    iters: number of simulations\n",
    "    func: function that fits a model to the data\n",
    "\n",
    "    returns: list of result objects\n",
    "    \"\"\"\n",
    "    _, results = func(daily)\n",
    "    fake = daily.copy()\n",
    "    \n",
    "    result_seq = []\n",
    "    for _ in range(iters):\n",
    "        fake.ppg = results.fittedvalues + thinkstats2.Resample(results.resid)\n",
    "        _, fake_results = func(fake)\n",
    "        result_seq.append(fake_results)\n",
    "\n",
    "    return result_seq"
   ]
  },
  {
   "cell_type": "code",
   "execution_count": 13,
   "metadata": {},
   "outputs": [],
   "source": [
    "def GeneratePredictions(result_seq, years, add_resid=False):\n",
    "    \"\"\"Generates an array of predicted values from a list of model results.\n",
    "\n",
    "    When add_resid is False, predictions represent sampling error only.\n",
    "\n",
    "    When add_resid is True, they also include residual error (which is\n",
    "    more relevant to prediction).\n",
    "    \n",
    "    result_seq: list of model results\n",
    "    years: sequence of times (in years) to make predictions for\n",
    "    add_resid: boolean, whether to add in resampled residuals\n",
    "\n",
    "    returns: sequence of predictions\n",
    "    \"\"\"\n",
    "    n = len(years)\n",
    "    d = dict(Intercept=np.ones(n), years=years, years2=years**2)\n",
    "    predict_df = pd.DataFrame(d)\n",
    "    \n",
    "    predict_seq = []\n",
    "    for fake_results in result_seq:\n",
    "        predict = fake_results.predict(predict_df)\n",
    "        if add_resid:\n",
    "            predict += thinkstats2.Resample(fake_results.resid, n)\n",
    "        predict_seq.append(predict)\n",
    "\n",
    "    return predict_seq"
   ]
  },
  {
   "cell_type": "code",
   "execution_count": 14,
   "metadata": {},
   "outputs": [
    {
     "data": {
      "image/png": "[encoded data removed]",
      "text/plain": [
       "<Figure size 432x288 with 1 Axes>"
      ]
     },
     "metadata": {
      "needs_background": "light"
     },
     "output_type": "display_data"
    }
   ],
   "source": [
    "# Solution\n",
    "\n",
    "years = np.linspace(0, 5, 101)\n",
    "thinkplot.Scatter(daily.years, daily.ppg, alpha=0.1, label=name)\n",
    "PlotPredictions(daily, years, func=RunQuadraticModel)\n",
    "thinkplot.Config(title='predictions',\n",
    "                 xlabel='Years',\n",
    "                 xlim=[years[0]-0.1, years[-1]+0.1],\n",
    "                 ylabel='Price per gram ($)')"
   ]
  },
  {
   "cell_type": "markdown",
   "metadata": {},
   "source": [
    "**Exercise:** Write a definition for a class named `SerialCorrelationTest` that extends `HypothesisTest` from Section 9.2. It should take a series and a lag as data, compute the serial correlation of the series with the given lag, and then compute the p-value of the observed correlation.\n",
    "\n",
    "Use this class to test whether the serial correlation in raw price data is statistically significant. Also test the residuals of the linear model and (if you did the previous exercise), the quadratic model."
   ]
  },
  {
   "cell_type": "code",
   "execution_count": 15,
   "metadata": {},
   "outputs": [],
   "source": [
    "# Solution\n",
    "\n",
    "class SerialCorrelationTest(thinkstats2.HypothesisTest):\n",
    "    \"\"\"Tests serial correlations by permutation.\"\"\"\n",
    "\n",
    "    def TestStatistic(self, data):\n",
    "        \"\"\"Computes the test statistic.\n",
    "\n",
    "        data: tuple of xs and ys\n",
    "        \"\"\"\n",
    "        series, lag = data\n",
    "        test_stat = abs(SerialCorr(series, lag))\n",
    "        return test_stat\n",
    "\n",
    "    def RunModel(self):\n",
    "        \"\"\"Run the model of the null hypothesis.\n",
    "\n",
    "        returns: simulated data\n",
    "        \"\"\"\n",
    "        series, lag = self.data\n",
    "        permutation = series.reindex(np.random.permutation(series.index))\n",
    "        return permutation, lag"
   ]
  },
  {
   "cell_type": "markdown",
   "metadata": {},
   "source": [
    "The following function computes serial correlation with the given lag."
   ]
  },
  {
   "cell_type": "code",
   "execution_count": 16,
   "metadata": {},
   "outputs": [],
   "source": [
    "def SerialCorr(series, lag=1):\n",
    "    xs = series[lag:]\n",
    "    ys = series.shift(lag)[lag:]\n",
    "    corr = thinkstats2.Corr(xs, ys)\n",
    "    return corr"
   ]
  },
  {
   "cell_type": "code",
   "execution_count": 17,
   "metadata": {},
   "outputs": [
    {
     "name": "stdout",
     "output_type": "stream",
     "text": [
      "0.4852293761947382 0.0\n"
     ]
    }
   ],
   "source": [
    "# Solution\n",
    "\n",
    "# test the correlation between consecutive prices\n",
    "\n",
    "name = 'high'\n",
    "daily = dailies[name]\n",
    "\n",
    "series = daily.ppg\n",
    "test = SerialCorrelationTest((series, 1))\n",
    "pvalue = test.PValue()\n",
    "print(test.actual, pvalue)"
   ]
  },
  {
   "cell_type": "code",
   "execution_count": 18,
   "metadata": {},
   "outputs": [
    {
     "name": "stdout",
     "output_type": "stream",
     "text": [
      "0.07570473767506267 0.009\n"
     ]
    }
   ],
   "source": [
    "# Solution\n",
    "\n",
    "# test for serial correlation in residuals of the linear model\n",
    "\n",
    "_, results = RunLinearModel(daily)\n",
    "series = results.resid\n",
    "test = SerialCorrelationTest((series, 1))\n",
    "pvalue = test.PValue()\n",
    "print(test.actual, pvalue)    "
   ]
  },
  {
   "cell_type": "code",
   "execution_count": 19,
   "metadata": {},
   "outputs": [
    {
     "name": "stdout",
     "output_type": "stream",
     "text": [
      "0.05607308161289925 0.042\n"
     ]
    }
   ],
   "source": [
    "# Solution\n",
    "\n",
    "# test for serial correlation in residuals of the quadratic model\n",
    "\n",
    "_, results = RunQuadraticModel(daily)\n",
    "series = results.resid\n",
    "test = SerialCorrelationTest((series, 1))\n",
    "pvalue = test.PValue()\n",
    "print(test.actual, pvalue)"
   ]
  },
  {
   "cell_type": "markdown",
   "metadata": {},
   "source": [
    "**Worked example:** There are several ways to extend the EWMA model to generate predictions. One of the simplest is something like this:\n",
    "\n",
    "1. Compute the EWMA of the time series and use the last point as an intercept, `inter`.\n",
    "\n",
    "2. Compute the EWMA of differences between successive elements in the time series and use the last point as a slope, `slope`.\n",
    "\n",
    "3. To predict values at future times, compute `inter + slope * dt`, where `dt` is the difference between the time of the prediction and the time of the last observation.\n"
   ]
  }
 ],
 "metadata": {
  "kernelspec": {
   "display_name": "Python 3 (ipykernel)",
   "language": "python",
   "name": "python3"
  },
  "language_info": {
   "codemirror_mode": {
    "name": "ipython",
    "version": 3
   },
   "file_extension": ".py",
   "mimetype": "text/x-python",
   "name": "python",
   "nbconvert_exporter": "python",
   "pygments_lexer": "ipython3",
   "version": "3.9.7"
  }
 },
 "nbformat": 4,
 "nbformat_minor": 1
}
